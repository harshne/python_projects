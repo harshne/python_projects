{
 "cells": [
  {
   "cell_type": "code",
   "execution_count": 47,
   "metadata": {
    "collapsed": false
   },
   "outputs": [],
   "source": [
    "import sqlite3,os,time\n",
    "import matplotlib.pyplot as plt\n",
    "import numpy as np\n",
    "import seaborn as sns\n",
    "conn = sqlite3.connect(':memory:')\n",
    "c= conn.cursor()\n",
    "\n",
    "c.execute(\"\"\" create table test\n",
    "            (date_recv date,\n",
    "            time_recv string,\n",
    "            count integer\n",
    "            )\"\"\")\n",
    "c.execute(\"\"\" create table avg_table\n",
    "            (date_recv string,\n",
    "            avg_count integer\n",
    "            )\"\"\")\n",
    "\n",
    "data = [(\"05-05-2018\",\"00:10:00\",10),\n",
    "        (\"05-05-2018\",\"00:20:00\",20),\n",
    "       (\"05-05-2018\",\"00:30:00\",50),\n",
    "       (\"05-05-2018\",\"00:40:00\",10),\n",
    "       (\"05-05-2018\",\"00:50:00\",90),\n",
    "       (\"05-06-2018\",\"00:10:00\",50),\n",
    "       (\"05-06-2018\",\"00:20:00\",10),\n",
    "       (\"05-06-2018\",\"00:30:00\",60),\n",
    "       (\"05-06-2018\",\"00:40:00\",70),\n",
    "       (\"05-06-2018\",\"00:50:00\",90)]\n",
    "c.executemany(\"insert into test values (?,?,?)\",(data))\n",
    "conn.commit()"
   ]
  },
  {
   "cell_type": "code",
   "execution_count": 48,
   "metadata": {
    "collapsed": false
   },
   "outputs": [
    {
     "data": {
      "text/plain": [
       "<sqlite3.Cursor at 0xdd82c60>"
      ]
     },
     "execution_count": 48,
     "metadata": {},
     "output_type": "execute_result"
    }
   ],
   "source": [
    "date=\"05-05-2018\"\n",
    "c.execute(\"select avg(count) from test where date_recv is ? \",(date,))\n",
    "avg=int(c.fetchone()[0])\n",
    "c.execute(\"insert into avg_table values (?,?)\",(date,avg))\n",
    "\n",
    "date=\"05-06-2018\"\n",
    "c.execute(\"select avg(count) from test where date_recv is ? \",(date,))\n",
    "avg=int(c.fetchone()[0])\n",
    "c.execute(\"insert into avg_table values (?,?)\",(date,avg))"
   ]
  },
  {
   "cell_type": "code",
   "execution_count": 60,
   "metadata": {
    "collapsed": false
   },
   "outputs": [
    {
     "name": "stdout",
     "output_type": "stream",
     "text": [
      "[36, 56] ['05-05-2018', '05-06-2018']\n"
     ]
    },
    {
     "data": {
      "image/png": "[encoded data removed]",
      "text/plain": [
       "<matplotlib.figure.Figure at 0xdf3efb0>"
      ]
     },
     "metadata": {},
     "output_type": "display_data"
    }
   ],
   "source": [
    "def lineplot(x_data,y_data,x_label=\"\",y_label=\"\",title=\"\"):\n",
    "    _,ax=plt.subplot(nrows=1)\n",
    "    ax.plot(x_data,y_data,lw=2,color='#539caf',alpha=1)\n",
    "    ax.set_title(title)\n",
    "    ax.set_xlabel(x_label)\n",
    "    ax.set_ylabel(y_label)\n",
    "    \n",
    "    \n",
    "x_data=[\"05-05-2018\",\"05-06-2018\"]\n",
    "c.execute(\"select avg_count from avg_table where date_recv is ?\",(\"05-05-2018\",))\n",
    "y_data=[]\n",
    "y_data.append(c.fetchone()[0])\n",
    "c.execute(\"select avg_count from avg_table where date_recv is ?\",(\"05-06-2018\",))\n",
    "y_data.append(c.fetchone()[0])\n",
    "\n",
    "print y_data,x_data\n",
    "plt.style.use('seaborn-darkgrid')\n",
    "y_pos = np.arange(len(x_data))\n",
    "plt.bar(y_pos,y_data)\n",
    "plt.xticks(y_pos,x_data)\n",
    "plt.show()"
   ]
  },
  {
   "cell_type": "code",
   "execution_count": null,
   "metadata": {
    "collapsed": true
   },
   "outputs": [],
   "source": []
  }
 ],
 "metadata": {
  "kernelspec": {
   "display_name": "Python 2",
   "language": "python",
   "name": "python2"
  },
  "language_info": {
   "codemirror_mode": {
    "name": "ipython",
    "version": 2
   },
   "file_extension": ".py",
   "mimetype": "text/x-python",
   "name": "python",
   "nbconvert_exporter": "python",
   "pygments_lexer": "ipython2",
   "version": "2.7.12"
  }
 },
 "nbformat": 4,
 "nbformat_minor": 1
}
